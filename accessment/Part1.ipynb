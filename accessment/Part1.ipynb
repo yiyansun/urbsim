{
 "cells": [
  {
   "cell_type": "markdown",
   "metadata": {},
   "source": [
    "# CASA0002_Urban simulation Assignment"
   ]
  },
  {
   "cell_type": "markdown",
   "metadata": {},
   "source": [
    "<div style=\"float:left\">\n",
    "            <h1 style=\"width:450px\">Code Part 1</h1>\n",
    "</div>\n",
    "<div style=\"float:right\"><img width=\"100\" src=\"https://github.com/jreades/i2p/raw/master/img/casa_logo.jpg\" /></div>\n"
   ]
  },
  {
   "cell_type": "markdown",
   "metadata": {},
   "source": [
    "Assignment requirements here\n",
    "\n",
    "Marking scheme here\n",
    "\n",
    "Code is available here\n",
    "\n",
    "Data : London underground graph and london_flow.csv"
   ]
  },
  {
   "cell_type": "code",
   "execution_count": 1,
   "metadata": {},
   "outputs": [
    {
     "name": "stderr",
     "output_type": "stream",
     "text": [
      "C:\\Users\\dune\\AppData\\Roaming\\Python\\Python311\\site-packages\\pandas\\core\\arrays\\masked.py:60: UserWarning: Pandas requires version '1.3.6' or newer of 'bottleneck' (version '1.3.5' currently installed).\n",
      "  from pandas.core import (\n"
     ]
    }
   ],
   "source": [
    "import pandas as pd\n",
    "import numpy as np\n",
    "import geopandas as gpd\n",
    "import networkx as nx\n",
    "import matplotlib.pyplot as plt\n",
    "from matplotlib.pyplot import cm\n",
    "import json\n",
    "import re\n",
    "from shapely.geometry import Point, LineString #this library is for manipulating geometric objects, and it is what geopandas uses to store geometries\n",
    "from scipy.spatial import distance"
   ]
  },
  {
   "cell_type": "markdown",
   "metadata": {},
   "source": [
    "# Part 1: London’s underground resilience"
   ]
  },
  {
   "cell_type": "markdown",
   "metadata": {},
   "source": [
    "## 1. Topological network"
   ]
  },
  {
   "cell_type": "markdown",
   "metadata": {},
   "source": [
    "understand the vulnerability of the London Underground network to random failures and targeted attacks. The London Underground network is a complex system of interconnected stations and lines. The network is represented as a graph, where stations are nodes and connections between stations are edges. The graph is undirected and unweighted, meaning that connections between stations are bidirectional and do not have associated travel times. The graph is also connected, meaning that there is a path between any two stations in the network."
   ]
  },
  {
   "cell_type": "markdown",
   "metadata": {},
   "source": [
    "34 marks"
   ]
  },
  {
   "cell_type": "markdown",
   "metadata": {},
   "source": [
    "Evaluate the resilience of the London’s underground through the removal of \n",
    "stations that can potentially make the underground vulnerable. Through the procedure outlined below \n",
    "you will investigate which are the stations that are most critical for the functioning of the \n",
    "underground, and which methodology is more appropriate to finding these stations."
   ]
  },
  {
   "cell_type": "markdown",
   "metadata": {},
   "source": [
    "### 1.1 Centrality measures:"
   ]
  },
  {
   "cell_type": "markdown",
   "metadata": {},
   "source": [
    "Select 3 centrality measures to characterise nodes, aiming at identifying the most important nodes in \n",
    "the underground network. Give the definition of each of the measures (including their equation), put \n",
    "the measures into the context of the underground, and why they will allow you to find the stations that \n",
    "are most crucial for the functioning of the underground. Compute the measures for your nodes in the \n",
    "network, and give the results in a table for the first 10 ranked nodes for each of the 3 measures.\n",
    "\n",
    "6 (2 per measure)\n"
   ]
  },
  {
   "cell_type": "code",
   "execution_count": null,
   "metadata": {},
   "outputs": [],
   "source": []
  },
  {
   "cell_type": "markdown",
   "metadata": {},
   "source": [
    "### 1.2 Impact measures:"
   ]
  },
  {
   "cell_type": "markdown",
   "metadata": {},
   "source": [
    "Find 2 different measures to evaluate the impact of the node removal on the network. These need to \n",
    "be global measures referring to the whole network and not to specific nodes or links. Explain whether \n",
    "these two measures are specific to the London underground, or whether they could also be used to \n",
    "evaluate the resilience of any other network.\n",
    "\n",
    "8 (4 per measure)"
   ]
  },
  {
   "cell_type": "code",
   "execution_count": null,
   "metadata": {},
   "outputs": [],
   "source": []
  },
  {
   "cell_type": "markdown",
   "metadata": {},
   "source": [
    "### 1.3. Node removal"
   ]
  },
  {
   "cell_type": "markdown",
   "metadata": {},
   "source": [
    "20"
   ]
  },
  {
   "cell_type": "markdown",
   "metadata": {},
   "source": [
    "For each of the centrality measures selected in I.1. remove at least 10 nodes following two different \n",
    "strategies. \n",
    "\n",
    "A) Non-sequential removal: using the table created in I.1. remove 1 node at a time \n",
    "following the rank in the table, i.e. from the most important one to the 10th most important one. After \n",
    "each removal, evaluate the impact of the removal using your two measures in I.2. and proceed until \n",
    "you have removed at least 10 nodes. \n",
    "\n",
    "B) Sequential: remove the highest ranked node and evaluate the \n",
    "impact using the 2 measures. After removal, re-compute the centrality measure. Remove the highest \n",
    "ranked node in the new network and evaluate the impact. Continue until removing at least 10 nodes.\n",
    "\n",
    "Report the results of the 2 strategies in one plot, and critically discuss the following: which centrality \n",
    "measure reflects better the importance of a station for the functioning of the underground, which \n",
    "strategy is more effective at studying resilience, and which impact measure is better at assessing the \n",
    "damage after node removal"
   ]
  },
  {
   "cell_type": "markdown",
   "metadata": {},
   "source": [
    "## 2. Flows: weighted network"
   ]
  },
  {
   "cell_type": "markdown",
   "metadata": {},
   "source": [
    "14"
   ]
  },
  {
   "cell_type": "markdown",
   "metadata": {},
   "source": [
    "Include passengers into the underground, and assess whether different \n",
    "measures need to be used when flows are considered. The network to use in this section is the \n",
    "weighted network given to you in the coursework, where the flows of passengers were assigned to the \n",
    "links between stations"
   ]
  },
  {
   "cell_type": "markdown",
   "metadata": {},
   "source": [
    "### II.1. Old vs new measure\n",
    "Consider the centrality measure derived in I. indicating the most relevant stations for assessing \n",
    "the vulnerability of the underground. What would you need to do to adjust this measure for a \n",
    "weighted network? Recompute the ranking of the 10 most important nodes according to this adjusted \n",
    "measure. Do you find the same ones as in I.1?\n",
    "\n",
    "3\n"
   ]
  },
  {
   "cell_type": "code",
   "execution_count": null,
   "metadata": {},
   "outputs": [],
   "source": []
  },
  {
   "cell_type": "markdown",
   "metadata": {},
   "source": [
    "### II.2. Impact measure with flows\n",
    "Now consider the measure for assessing the impact of node removal. Would you adjust the \n",
    "measure for a weighted network? If yes, how? Propose a different measure that would be better at \n",
    "assessing the impact of closing a station taking into consideration the passengers.\n",
    "\n",
    "3\n"
   ]
  },
  {
   "cell_type": "code",
   "execution_count": null,
   "metadata": {},
   "outputs": [],
   "source": []
  },
  {
   "cell_type": "markdown",
   "metadata": {},
   "source": [
    "### II.3. Experiment with flows:\n",
    "Remove only the 3 highest ranked nodes according to the best performing centrality measure \n",
    "found in I.1. Evaluate the impact according to the 2 measures in II.2. Repeat the experiment for the \n",
    "highest 3 ranked nodes using the adjusted measure. Critically discuss which station closure will have \n",
    "the largest impact on passengers, referring to your measures and results.\n",
    "\n",
    "8"
   ]
  },
  {
   "cell_type": "code",
   "execution_count": null,
   "metadata": {},
   "outputs": [],
   "source": []
  }
 ],
 "metadata": {
  "kernelspec": {
   "display_name": "base",
   "language": "python",
   "name": "python3"
  },
  "language_info": {
   "codemirror_mode": {
    "name": "ipython",
    "version": 3
   },
   "file_extension": ".py",
   "mimetype": "text/x-python",
   "name": "python",
   "nbconvert_exporter": "python",
   "pygments_lexer": "ipython3",
   "version": "3.11.5"
  }
 },
 "nbformat": 4,
 "nbformat_minor": 2
}
