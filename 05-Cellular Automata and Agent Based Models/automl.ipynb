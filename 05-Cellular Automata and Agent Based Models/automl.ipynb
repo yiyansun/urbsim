{
  "cells": [
    {
      "cell_type": "markdown",
      "metadata": {
        "colab_type": "text",
        "id": "view-in-github"
      },
      "source": [
        "<a href=\"https://colab.research.google.com/github/asrenninger/urbansim/blob/main/automl/automl.ipynb\" target=\"_parent\"><img src=\"https://colab.research.google.com/assets/colab-badge.svg\" alt=\"Open In Colab\"/></a>"
      ]
    },
    {
      "cell_type": "code",
      "execution_count": 1,
      "metadata": {
        "colab": {
          "base_uri": "https://localhost:8080/"
        },
        "id": "XIIUTEvwMSgr",
        "outputId": "768a706a-8d69-4abd-e2f8-a632d2e65e6f"
      },
      "outputs": [
        {
          "name": "stdout",
          "output_type": "stream",
          "text": [
            "Defaulting to user installation because normal site-packages is not writeable\n",
            "Collecting mljar-supervised\n",
            "  Downloading mljar-supervised-1.1.6.tar.gz (126 kB)\n",
            "     ---------------------------------------- 0.0/126.8 kB ? eta -:--:--\n",
            "     ------------------------- ------------- 81.9/126.8 kB 2.2 MB/s eta 0:00:01\n",
            "     -------------------------------------- 126.8/126.8 kB 2.5 MB/s eta 0:00:00\n",
            "  Preparing metadata (setup.py): started\n",
            "  Preparing metadata (setup.py): finished with status 'done'\n",
            "Requirement already satisfied: numpy>=1.19.5 in c:\\users\\dune\\appdata\\roaming\\python\\python311\\site-packages (from mljar-supervised) (1.26.4)\n",
            "Requirement already satisfied: pandas>=2.0.0 in c:\\users\\dune\\appdata\\roaming\\python\\python311\\site-packages (from mljar-supervised) (2.2.1)\n",
            "Requirement already satisfied: scipy<=1.11.4,>=1.6.1 in c:\\programdata\\anaconda3\\lib\\site-packages (from mljar-supervised) (1.11.1)\n",
            "Requirement already satisfied: scikit-learn>=1.0 in c:\\programdata\\anaconda3\\lib\\site-packages (from mljar-supervised) (1.3.0)\n",
            "Requirement already satisfied: xgboost>=2.0.0 in c:\\users\\dune\\appdata\\roaming\\python\\python311\\site-packages (from mljar-supervised) (2.0.3)\n",
            "Collecting lightgbm>=3.0.0 (from mljar-supervised)\n",
            "  Obtaining dependency information for lightgbm>=3.0.0 from https://files.pythonhosted.org/packages/e1/4c/4685ccfae9806f561de716e32549190c1f533dde5bcadaf83bdf23972cf0/lightgbm-4.3.0-py3-none-win_amd64.whl.metadata\n",
            "  Downloading lightgbm-4.3.0-py3-none-win_amd64.whl.metadata (19 kB)\n",
            "Requirement already satisfied: catboost>=0.24.4 in c:\\users\\dune\\appdata\\roaming\\python\\python311\\site-packages (from mljar-supervised) (1.2.2)\n",
            "Requirement already satisfied: joblib>=1.0.1 in c:\\programdata\\anaconda3\\lib\\site-packages (from mljar-supervised) (1.2.0)\n",
            "Requirement already satisfied: tabulate>=0.8.7 in c:\\programdata\\anaconda3\\lib\\site-packages (from mljar-supervised) (0.8.10)\n",
            "Requirement already satisfied: matplotlib>=3.2.2 in c:\\programdata\\anaconda3\\lib\\site-packages (from mljar-supervised) (3.7.2)\n",
            "Collecting dtreeviz>=2.2.2 (from mljar-supervised)\n",
            "  Obtaining dependency information for dtreeviz>=2.2.2 from https://files.pythonhosted.org/packages/b3/e8/44eb59345d8ba9d2f6610df6441d63082f46021c1685de24716c22f55383/dtreeviz-2.2.2-py3-none-any.whl.metadata\n",
            "  Downloading dtreeviz-2.2.2-py3-none-any.whl.metadata (2.4 kB)\n",
            "Collecting shap>=0.42.1 (from mljar-supervised)\n",
            "  Obtaining dependency information for shap>=0.42.1 from https://files.pythonhosted.org/packages/39/6c/4ab39615fc3ffe40faaa62fc2feb43868b8ce946c671e84bf476c1e06116/shap-0.45.0-cp311-cp311-win_amd64.whl.metadata\n",
            "  Downloading shap-0.45.0-cp311-cp311-win_amd64.whl.metadata (25 kB)\n",
            "Requirement already satisfied: seaborn>=0.11.1 in c:\\programdata\\anaconda3\\lib\\site-packages (from mljar-supervised) (0.12.2)\n",
            "Requirement already satisfied: wordcloud>=1.8.1 in c:\\users\\dune\\appdata\\roaming\\python\\python311\\site-packages (from mljar-supervised) (1.9.3)\n",
            "Collecting category_encoders>=2.2.2 (from mljar-supervised)\n",
            "  Obtaining dependency information for category_encoders>=2.2.2 from https://files.pythonhosted.org/packages/7f/e5/79a62e5c9c9ddbfa9ff5222240d408c1eeea4e38741a0dc8343edc7ef1ec/category_encoders-2.6.3-py2.py3-none-any.whl.metadata\n",
            "  Downloading category_encoders-2.6.3-py2.py3-none-any.whl.metadata (8.0 kB)\n",
            "Collecting optuna>=2.7.0 (from mljar-supervised)\n",
            "  Obtaining dependency information for optuna>=2.7.0 from https://files.pythonhosted.org/packages/15/da/68883911855d8b4d521f9a370e4e6aab8232b91c1d8d5a8348c4680c6642/optuna-3.6.1-py3-none-any.whl.metadata\n",
            "  Downloading optuna-3.6.1-py3-none-any.whl.metadata (17 kB)\n",
            "Requirement already satisfied: scikit-plot==0.3.7 in c:\\users\\dune\\appdata\\roaming\\python\\python311\\site-packages (from mljar-supervised) (0.3.7)\n",
            "Requirement already satisfied: markdown in c:\\programdata\\anaconda3\\lib\\site-packages (from mljar-supervised) (3.4.1)\n",
            "Requirement already satisfied: typing-extensions in c:\\programdata\\anaconda3\\lib\\site-packages (from mljar-supervised) (4.7.1)\n",
            "Requirement already satisfied: ipython in c:\\users\\dune\\appdata\\roaming\\python\\python311\\site-packages (from mljar-supervised) (8.17.1)\n",
            "Requirement already satisfied: graphviz in c:\\users\\dune\\appdata\\roaming\\python\\python311\\site-packages (from catboost>=0.24.4->mljar-supervised) (0.20.1)\n",
            "Requirement already satisfied: plotly in c:\\programdata\\anaconda3\\lib\\site-packages (from catboost>=0.24.4->mljar-supervised) (5.9.0)\n",
            "Requirement already satisfied: six in c:\\users\\dune\\appdata\\roaming\\python\\python311\\site-packages (from catboost>=0.24.4->mljar-supervised) (1.16.0)\n",
            "Requirement already satisfied: statsmodels>=0.9.0 in c:\\programdata\\anaconda3\\lib\\site-packages (from category_encoders>=2.2.2->mljar-supervised) (0.14.0)\n",
            "Requirement already satisfied: patsy>=0.5.1 in c:\\programdata\\anaconda3\\lib\\site-packages (from category_encoders>=2.2.2->mljar-supervised) (0.5.3)\n",
            "Requirement already satisfied: colour in c:\\users\\dune\\appdata\\roaming\\python\\python311\\site-packages (from dtreeviz>=2.2.2->mljar-supervised) (0.1.5)\n",
            "Requirement already satisfied: pytest in c:\\programdata\\anaconda3\\lib\\site-packages (from dtreeviz>=2.2.2->mljar-supervised) (7.4.0)\n",
            "Requirement already satisfied: contourpy>=1.0.1 in c:\\programdata\\anaconda3\\lib\\site-packages (from matplotlib>=3.2.2->mljar-supervised) (1.0.5)\n",
            "Requirement already satisfied: cycler>=0.10 in c:\\users\\dune\\appdata\\roaming\\python\\python311\\site-packages (from matplotlib>=3.2.2->mljar-supervised) (0.10.0)\n",
            "Requirement already satisfied: fonttools>=4.22.0 in c:\\programdata\\anaconda3\\lib\\site-packages (from matplotlib>=3.2.2->mljar-supervised) (4.25.0)\n",
            "Requirement already satisfied: kiwisolver>=1.0.1 in c:\\programdata\\anaconda3\\lib\\site-packages (from matplotlib>=3.2.2->mljar-supervised) (1.4.4)\n",
            "Requirement already satisfied: packaging>=20.0 in c:\\users\\dune\\appdata\\roaming\\python\\python311\\site-packages (from matplotlib>=3.2.2->mljar-supervised) (23.2)\n",
            "Requirement already satisfied: pillow>=6.2.0 in c:\\programdata\\anaconda3\\lib\\site-packages (from matplotlib>=3.2.2->mljar-supervised) (10.0.1)\n",
            "Requirement already satisfied: pyparsing<3.1,>=2.3.1 in c:\\programdata\\anaconda3\\lib\\site-packages (from matplotlib>=3.2.2->mljar-supervised) (3.0.9)\n",
            "Requirement already satisfied: python-dateutil>=2.7 in c:\\users\\dune\\appdata\\roaming\\python\\python311\\site-packages (from matplotlib>=3.2.2->mljar-supervised) (2.8.2)\n",
            "Collecting alembic>=1.5.0 (from optuna>=2.7.0->mljar-supervised)\n",
            "  Obtaining dependency information for alembic>=1.5.0 from https://files.pythonhosted.org/packages/7f/50/9fb3a5c80df6eb6516693270621676980acd6d5a9a7efdbfa273f8d616c7/alembic-1.13.1-py3-none-any.whl.metadata\n",
            "  Downloading alembic-1.13.1-py3-none-any.whl.metadata (7.4 kB)\n",
            "Collecting colorlog (from optuna>=2.7.0->mljar-supervised)\n",
            "  Obtaining dependency information for colorlog from https://files.pythonhosted.org/packages/f3/18/3e867ab37a24fdf073c1617b9c7830e06ec270b1ea4694a624038fc40a03/colorlog-6.8.2-py3-none-any.whl.metadata\n",
            "  Downloading colorlog-6.8.2-py3-none-any.whl.metadata (10 kB)\n",
            "Requirement already satisfied: sqlalchemy>=1.3.0 in c:\\programdata\\anaconda3\\lib\\site-packages (from optuna>=2.7.0->mljar-supervised) (1.4.39)\n",
            "Requirement already satisfied: tqdm in c:\\programdata\\anaconda3\\lib\\site-packages (from optuna>=2.7.0->mljar-supervised) (4.65.0)\n",
            "Requirement already satisfied: PyYAML in c:\\programdata\\anaconda3\\lib\\site-packages (from optuna>=2.7.0->mljar-supervised) (6.0)\n",
            "Requirement already satisfied: pytz>=2020.1 in c:\\programdata\\anaconda3\\lib\\site-packages (from pandas>=2.0.0->mljar-supervised) (2023.3.post1)\n",
            "Requirement already satisfied: tzdata>=2022.7 in c:\\programdata\\anaconda3\\lib\\site-packages (from pandas>=2.0.0->mljar-supervised) (2023.3)\n",
            "Requirement already satisfied: threadpoolctl>=2.0.0 in c:\\programdata\\anaconda3\\lib\\site-packages (from scikit-learn>=1.0->mljar-supervised) (2.2.0)\n",
            "Collecting slicer==0.0.7 (from shap>=0.42.1->mljar-supervised)\n",
            "  Obtaining dependency information for slicer==0.0.7 from https://files.pythonhosted.org/packages/78/c2/b3f55dfdb8af9812fdb9baf70cacf3b9e82e505b2bd4324d588888b81202/slicer-0.0.7-py3-none-any.whl.metadata\n",
            "  Downloading slicer-0.0.7-py3-none-any.whl.metadata (3.7 kB)\n",
            "Requirement already satisfied: numba in c:\\users\\dune\\appdata\\roaming\\python\\python311\\site-packages (from shap>=0.42.1->mljar-supervised) (0.59.0)\n",
            "Requirement already satisfied: cloudpickle in c:\\programdata\\anaconda3\\lib\\site-packages (from shap>=0.42.1->mljar-supervised) (2.2.1)\n",
            "Requirement already satisfied: decorator in c:\\users\\dune\\appdata\\roaming\\python\\python311\\site-packages (from ipython->mljar-supervised) (4.4.2)\n",
            "Requirement already satisfied: jedi>=0.16 in c:\\users\\dune\\appdata\\roaming\\python\\python311\\site-packages (from ipython->mljar-supervised) (0.19.1)\n",
            "Requirement already satisfied: matplotlib-inline in c:\\users\\dune\\appdata\\roaming\\python\\python311\\site-packages (from ipython->mljar-supervised) (0.1.6)\n",
            "Requirement already satisfied: prompt-toolkit!=3.0.37,<3.1.0,>=3.0.30 in c:\\users\\dune\\appdata\\roaming\\python\\python311\\site-packages (from ipython->mljar-supervised) (3.0.39)\n",
            "Requirement already satisfied: pygments>=2.4.0 in c:\\users\\dune\\appdata\\roaming\\python\\python311\\site-packages (from ipython->mljar-supervised) (2.16.1)\n",
            "Requirement already satisfied: stack-data in c:\\users\\dune\\appdata\\roaming\\python\\python311\\site-packages (from ipython->mljar-supervised) (0.6.3)\n",
            "Requirement already satisfied: traitlets>=5 in c:\\users\\dune\\appdata\\roaming\\python\\python311\\site-packages (from ipython->mljar-supervised) (5.13.0)\n",
            "Requirement already satisfied: colorama in c:\\users\\dune\\appdata\\roaming\\python\\python311\\site-packages (from ipython->mljar-supervised) (0.4.6)\n",
            "Collecting Mako (from alembic>=1.5.0->optuna>=2.7.0->mljar-supervised)\n",
            "  Obtaining dependency information for Mako from https://files.pythonhosted.org/packages/2b/8d/9f11d0b9ac521febb806e7f30dc5982d0f4f5821217712c59005fbc5c1e3/Mako-1.3.2-py3-none-any.whl.metadata\n",
            "  Downloading Mako-1.3.2-py3-none-any.whl.metadata (2.9 kB)\n",
            "Requirement already satisfied: parso<0.9.0,>=0.8.3 in c:\\users\\dune\\appdata\\roaming\\python\\python311\\site-packages (from jedi>=0.16->ipython->mljar-supervised) (0.8.3)\n",
            "Requirement already satisfied: wcwidth in c:\\users\\dune\\appdata\\roaming\\python\\python311\\site-packages (from prompt-toolkit!=3.0.37,<3.1.0,>=3.0.30->ipython->mljar-supervised) (0.2.9)\n",
            "Requirement already satisfied: greenlet!=0.4.17 in c:\\programdata\\anaconda3\\lib\\site-packages (from sqlalchemy>=1.3.0->optuna>=2.7.0->mljar-supervised) (2.0.1)\n",
            "Requirement already satisfied: llvmlite<0.43,>=0.42.0dev0 in c:\\users\\dune\\appdata\\roaming\\python\\python311\\site-packages (from numba->shap>=0.42.1->mljar-supervised) (0.42.0)\n",
            "Requirement already satisfied: tenacity>=6.2.0 in c:\\programdata\\anaconda3\\lib\\site-packages (from plotly->catboost>=0.24.4->mljar-supervised) (8.2.2)\n",
            "Requirement already satisfied: iniconfig in c:\\programdata\\anaconda3\\lib\\site-packages (from pytest->dtreeviz>=2.2.2->mljar-supervised) (1.1.1)\n",
            "Requirement already satisfied: pluggy<2.0,>=0.12 in c:\\programdata\\anaconda3\\lib\\site-packages (from pytest->dtreeviz>=2.2.2->mljar-supervised) (1.0.0)\n",
            "Requirement already satisfied: executing>=1.2.0 in c:\\users\\dune\\appdata\\roaming\\python\\python311\\site-packages (from stack-data->ipython->mljar-supervised) (2.0.1)\n",
            "Requirement already satisfied: asttokens>=2.1.0 in c:\\users\\dune\\appdata\\roaming\\python\\python311\\site-packages (from stack-data->ipython->mljar-supervised) (2.4.1)\n",
            "Requirement already satisfied: pure-eval in c:\\users\\dune\\appdata\\roaming\\python\\python311\\site-packages (from stack-data->ipython->mljar-supervised) (0.2.2)\n",
            "Requirement already satisfied: MarkupSafe>=0.9.2 in c:\\programdata\\anaconda3\\lib\\site-packages (from Mako->alembic>=1.5.0->optuna>=2.7.0->mljar-supervised) (2.1.1)\n",
            "Downloading category_encoders-2.6.3-py2.py3-none-any.whl (81 kB)\n",
            "   ---------------------------------------- 0.0/81.9 kB ? eta -:--:--\n",
            "   ---------------------------------------- 81.9/81.9 kB ? eta 0:00:00\n",
            "Downloading dtreeviz-2.2.2-py3-none-any.whl (91 kB)\n",
            "   ---------------------------------------- 0.0/91.8 kB ? eta -:--:--\n",
            "   ---------------------------------------- 91.8/91.8 kB 5.1 MB/s eta 0:00:00\n",
            "Downloading lightgbm-4.3.0-py3-none-win_amd64.whl (1.3 MB)\n",
            "   ---------------------------------------- 0.0/1.3 MB ? eta -:--:--\n",
            "   ----------------------------------- ---- 1.2/1.3 MB 37.1 MB/s eta 0:00:01\n",
            "   ---------------------------------------- 1.3/1.3 MB 28.2 MB/s eta 0:00:00\n",
            "Downloading optuna-3.6.1-py3-none-any.whl (380 kB)\n",
            "   ---------------------------------------- 0.0/380.1 kB ? eta -:--:--\n",
            "   --------------------------------------- 380.1/380.1 kB 24.7 MB/s eta 0:00:00\n",
            "Downloading shap-0.45.0-cp311-cp311-win_amd64.whl (453 kB)\n",
            "   ---------------------------------------- 0.0/453.1 kB ? eta -:--:--\n",
            "   --------------------------------------- 453.1/453.1 kB 27.7 MB/s eta 0:00:00\n",
            "Downloading slicer-0.0.7-py3-none-any.whl (14 kB)\n",
            "Downloading alembic-1.13.1-py3-none-any.whl (233 kB)\n",
            "   ---------------------------------------- 0.0/233.4 kB ? eta -:--:--\n",
            "   ---------------------------------------- 233.4/233.4 kB ? eta 0:00:00\n",
            "Downloading colorlog-6.8.2-py3-none-any.whl (11 kB)\n",
            "Downloading Mako-1.3.2-py3-none-any.whl (78 kB)\n",
            "   ---------------------------------------- 0.0/78.7 kB ? eta -:--:--\n",
            "   ---------------------------------------- 78.7/78.7 kB ? eta 0:00:00\n",
            "Building wheels for collected packages: mljar-supervised\n",
            "  Building wheel for mljar-supervised (setup.py): started\n",
            "  Building wheel for mljar-supervised (setup.py): finished with status 'done'\n",
            "  Created wheel for mljar-supervised: filename=mljar_supervised-1.1.6-py3-none-any.whl size=163837 sha256=4148ac51b42a8a258f864f1d424c18a753f290cf8504d13a50f5d7336df9fd79\n",
            "  Stored in directory: c:\\users\\dune\\appdata\\local\\pip\\cache\\wheels\\84\\2e\\20\\036d2a5ec25a13ee970a610c9b733759c186349ca53b1e4561\n",
            "Successfully built mljar-supervised\n",
            "Installing collected packages: slicer, Mako, colorlog, lightgbm, alembic, shap, optuna, dtreeviz, category_encoders, mljar-supervised\n",
            "Successfully installed Mako-1.3.2 alembic-1.13.1 category_encoders-2.6.3 colorlog-6.8.2 dtreeviz-2.2.2 lightgbm-4.3.0 mljar-supervised-1.1.6 optuna-3.6.1 shap-0.45.0 slicer-0.0.7\n"
          ]
        }
      ],
      "source": [
        "!pip install mljar-supervised"
      ]
    },
    {
      "cell_type": "markdown",
      "metadata": {
        "id": "NwaD2ob4rZ74"
      },
      "source": [
        "This workflow is really simple.."
      ]
    },
    {
      "cell_type": "code",
      "execution_count": 2,
      "metadata": {
        "id": "PxQpWtz2MT5Q"
      },
      "outputs": [
        {
          "name": "stderr",
          "output_type": "stream",
          "text": [
            "C:\\Users\\dune\\AppData\\Roaming\\Python\\Python311\\site-packages\\pandas\\core\\arrays\\masked.py:60: UserWarning: Pandas requires version '1.3.6' or newer of 'bottleneck' (version '1.3.5' currently installed).\n",
            "  from pandas.core import (\n"
          ]
        }
      ],
      "source": [
        "# import libraries\n",
        "import pandas as pd\n",
        "import numpy as np\n",
        "\n",
        "from supervised.automl import AutoML"
      ]
    },
    {
      "cell_type": "code",
      "execution_count": 3,
      "metadata": {
        "id": "nWBN7qYr6VPh"
      },
      "outputs": [],
      "source": [
        "# make sure we can see the plots\n",
        "%matplotlib inline"
      ]
    },
    {
      "cell_type": "code",
      "execution_count": 4,
      "metadata": {
        "colab": {
          "base_uri": "https://localhost:8080/"
        },
        "id": "2Enfhe3JMbLE",
        "outputId": "92e53f11-7e00-4024-95a2-0a818594d964"
      },
      "outputs": [
        {
          "ename": "ModuleNotFoundError",
          "evalue": "No module named 'google.colab'",
          "output_type": "error",
          "traceback": [
            "\u001b[1;31m---------------------------------------------------------------------------\u001b[0m",
            "\u001b[1;31mModuleNotFoundError\u001b[0m                       Traceback (most recent call last)",
            "Cell \u001b[1;32mIn[4], line 2\u001b[0m\n\u001b[0;32m      1\u001b[0m \u001b[38;5;66;03m# mount to Google Drive so we can import the data\u001b[39;00m\n\u001b[1;32m----> 2\u001b[0m \u001b[38;5;28;01mfrom\u001b[39;00m \u001b[38;5;21;01mgoogle\u001b[39;00m\u001b[38;5;21;01m.\u001b[39;00m\u001b[38;5;21;01mcolab\u001b[39;00m \u001b[38;5;28;01mimport\u001b[39;00m drive\n\u001b[0;32m      3\u001b[0m drive\u001b[38;5;241m.\u001b[39mmount(\u001b[38;5;124m'\u001b[39m\u001b[38;5;124m/content/drive\u001b[39m\u001b[38;5;124m'\u001b[39m)\n",
            "\u001b[1;31mModuleNotFoundError\u001b[0m: No module named 'google.colab'"
          ]
        }
      ],
      "source": [
        "# mount to Google Drive so we can import the data\n",
        "from google.colab import drive\n",
        "drive.mount('/content/drive')"
      ]
    },
    {
      "cell_type": "code",
      "execution_count": null,
      "metadata": {
        "id": "Gsnd1aSlMhWo"
      },
      "outputs": [],
      "source": [
        "# read in the data wherever you stored it\n",
        "df = pd.read_csv(\"drive/MyDrive/urbansim/migration.csv\")"
      ]
    },
    {
      "cell_type": "code",
      "execution_count": 5,
      "metadata": {},
      "outputs": [],
      "source": [
        "df = pd.read_csv(\"https://github.com/asrenninger/urbansim/raw/main/automl/migration.csv.gz\")"
      ]
    },
    {
      "cell_type": "code",
      "execution_count": null,
      "metadata": {
        "id": "qzdmJ37PxB8l"
      },
      "outputs": [],
      "source": [
        "# or you can read it in from github\n",
        "# df = pd.read_csv(\"https://github.com/asrenninger/urbansim/raw/main/automl/migration.csv.gz\")"
      ]
    },
    {
      "cell_type": "code",
      "execution_count": 6,
      "metadata": {
        "colab": {
          "base_uri": "https://localhost:8080/"
        },
        "id": "2cgzQAp2Mrcw",
        "outputId": "9ae9bb1e-4ee9-415e-d102-e5b7d274851b"
      },
      "outputs": [
        {
          "data": {
            "text/plain": [
              "Index(['code_i', 'code_j', 'F_ij', 'distance', 'name_i', 'name_j', 'density_i',\n",
              "       'married_i', 'households_i', 'population_i', 'nonwhite_i',\n",
              "       'unhealthy_i', 'employed_i', 'university_i', 'density_j', 'married_j',\n",
              "       'households_j', 'population_j', 'nonwhite_j', 'unhealthy_j',\n",
              "       'employed_j', 'university_j'],\n",
              "      dtype='object')"
            ]
          },
          "execution_count": 6,
          "metadata": {},
          "output_type": "execute_result"
        }
      ],
      "source": [
        "# I'm listing the columns so below I can see what I want to keep\n",
        "df.columns"
      ]
    },
    {
      "cell_type": "markdown",
      "metadata": {
        "id": "7X-pIE-et87q"
      },
      "source": [
        "AutoML has several modes—Explain, Perform, Compete. They all use different combinations of models to create the best prediction. The lightest, fastest possible collection of models is Explain, so we will stick with that to make it run faster."
      ]
    },
    {
      "cell_type": "code",
      "execution_count": 8,
      "metadata": {
        "colab": {
          "base_uri": "https://localhost:8080/",
          "height": 595
        },
        "id": "SjR_B0SqNbin",
        "outputId": "a5204b0b-4814-4f13-9053-68c573c55f95"
      },
      "outputs": [
        {
          "name": "stdout",
          "output_type": "stream",
          "text": [
            "Linear algorithm was disabled.\n",
            "AutoML directory: automl\n",
            "The task is regression with evaluation metric rmse\n",
            "AutoML will use algorithms: ['Baseline', 'Decision Tree', 'Random Forest', 'Xgboost', 'Neural Network']\n",
            "AutoML will ensemble available models\n",
            "AutoML steps: ['simple_algorithms', 'default_algorithms', 'ensemble']\n",
            "* Step simple_algorithms will try to check up to 2 models\n",
            "1_Baseline rmse 135.245587 trained in 0.29 seconds\n"
          ]
        },
        {
          "name": "stderr",
          "output_type": "stream",
          "text": [
            "C:\\Users\\dune\\AppData\\Roaming\\Python\\Python311\\site-packages\\supervised\\utils\\shap.py:116: UserWarning: The figure layout has changed to tight\n"
          ]
        },
        {
          "name": "stdout",
          "output_type": "stream",
          "text": [
            "2_DecisionTree rmse 98.320859 trained in 14.69 seconds\n",
            "* Step default_algorithms will try to check up to 3 models\n",
            "3_Default_Xgboost rmse 77.450562 trained in 13.21 seconds\n",
            "4_Default_NeuralNetwork rmse 89.938596 trained in 3.86 seconds\n"
          ]
        },
        {
          "name": "stderr",
          "output_type": "stream",
          "text": [
            "C:\\Users\\dune\\AppData\\Roaming\\Python\\Python311\\site-packages\\shap\\plots\\_beeswarm.py:962: UserWarning: The figure layout has changed to tight\n",
            "C:\\Users\\dune\\AppData\\Roaming\\Python\\Python311\\site-packages\\supervised\\utils\\shap.py:116: UserWarning: The figure layout has changed to tight\n"
          ]
        },
        {
          "name": "stdout",
          "output_type": "stream",
          "text": [
            "5_Default_RandomForest rmse 84.149797 trained in 8.25 seconds\n",
            "* Step ensemble will try to check up to 1 model\n",
            "Ensemble rmse 73.377685 trained in 0.17 seconds\n",
            "AutoML fit time: 46.1 seconds\n",
            "AutoML best model: Ensemble\n"
          ]
        },
        {
          "data": {
            "text/html": [
              "<style>#sk-container-id-1 {color: black;}#sk-container-id-1 pre{padding: 0;}#sk-container-id-1 div.sk-toggleable {background-color: white;}#sk-container-id-1 label.sk-toggleable__label {cursor: pointer;display: block;width: 100%;margin-bottom: 0;padding: 0.3em;box-sizing: border-box;text-align: center;}#sk-container-id-1 label.sk-toggleable__label-arrow:before {content: \"▸\";float: left;margin-right: 0.25em;color: #696969;}#sk-container-id-1 label.sk-toggleable__label-arrow:hover:before {color: black;}#sk-container-id-1 div.sk-estimator:hover label.sk-toggleable__label-arrow:before {color: black;}#sk-container-id-1 div.sk-toggleable__content {max-height: 0;max-width: 0;overflow: hidden;text-align: left;background-color: #f0f8ff;}#sk-container-id-1 div.sk-toggleable__content pre {margin: 0.2em;color: black;border-radius: 0.25em;background-color: #f0f8ff;}#sk-container-id-1 input.sk-toggleable__control:checked~div.sk-toggleable__content {max-height: 200px;max-width: 100%;overflow: auto;}#sk-container-id-1 input.sk-toggleable__control:checked~label.sk-toggleable__label-arrow:before {content: \"▾\";}#sk-container-id-1 div.sk-estimator input.sk-toggleable__control:checked~label.sk-toggleable__label {background-color: #d4ebff;}#sk-container-id-1 div.sk-label input.sk-toggleable__control:checked~label.sk-toggleable__label {background-color: #d4ebff;}#sk-container-id-1 input.sk-hidden--visually {border: 0;clip: rect(1px 1px 1px 1px);clip: rect(1px, 1px, 1px, 1px);height: 1px;margin: -1px;overflow: hidden;padding: 0;position: absolute;width: 1px;}#sk-container-id-1 div.sk-estimator {font-family: monospace;background-color: #f0f8ff;border: 1px dotted black;border-radius: 0.25em;box-sizing: border-box;margin-bottom: 0.5em;}#sk-container-id-1 div.sk-estimator:hover {background-color: #d4ebff;}#sk-container-id-1 div.sk-parallel-item::after {content: \"\";width: 100%;border-bottom: 1px solid gray;flex-grow: 1;}#sk-container-id-1 div.sk-label:hover label.sk-toggleable__label {background-color: #d4ebff;}#sk-container-id-1 div.sk-serial::before {content: \"\";position: absolute;border-left: 1px solid gray;box-sizing: border-box;top: 0;bottom: 0;left: 50%;z-index: 0;}#sk-container-id-1 div.sk-serial {display: flex;flex-direction: column;align-items: center;background-color: white;padding-right: 0.2em;padding-left: 0.2em;position: relative;}#sk-container-id-1 div.sk-item {position: relative;z-index: 1;}#sk-container-id-1 div.sk-parallel {display: flex;align-items: stretch;justify-content: center;background-color: white;position: relative;}#sk-container-id-1 div.sk-item::before, #sk-container-id-1 div.sk-parallel-item::before {content: \"\";position: absolute;border-left: 1px solid gray;box-sizing: border-box;top: 0;bottom: 0;left: 50%;z-index: -1;}#sk-container-id-1 div.sk-parallel-item {display: flex;flex-direction: column;z-index: 1;position: relative;background-color: white;}#sk-container-id-1 div.sk-parallel-item:first-child::after {align-self: flex-end;width: 50%;}#sk-container-id-1 div.sk-parallel-item:last-child::after {align-self: flex-start;width: 50%;}#sk-container-id-1 div.sk-parallel-item:only-child::after {width: 0;}#sk-container-id-1 div.sk-dashed-wrapped {border: 1px dashed gray;margin: 0 0.4em 0.5em 0.4em;box-sizing: border-box;padding-bottom: 0.4em;background-color: white;}#sk-container-id-1 div.sk-label label {font-family: monospace;font-weight: bold;display: inline-block;line-height: 1.2em;}#sk-container-id-1 div.sk-label-container {text-align: center;}#sk-container-id-1 div.sk-container {/* jupyter's `normalize.less` sets `[hidden] { display: none; }` but bootstrap.min.css set `[hidden] { display: none !important; }` so we also need the `!important` here to be able to override the default hidden behavior on the sphinx rendered scikit-learn.org. See: https://github.com/scikit-learn/scikit-learn/issues/21755 */display: inline-block !important;position: relative;}#sk-container-id-1 div.sk-text-repr-fallback {display: none;}</style><div id=\"sk-container-id-1\" class=\"sk-top-container\"><div class=\"sk-text-repr-fallback\"><pre>AutoML(results_path=&#x27;automl&#x27;)</pre><b>In a Jupyter environment, please rerun this cell to show the HTML representation or trust the notebook. <br />On GitHub, the HTML representation is unable to render, please try loading this page with nbviewer.org.</b></div><div class=\"sk-container\" hidden><div class=\"sk-item\"><div class=\"sk-estimator sk-toggleable\"><input class=\"sk-toggleable__control sk-hidden--visually\" id=\"sk-estimator-id-1\" type=\"checkbox\" checked><label for=\"sk-estimator-id-1\" class=\"sk-toggleable__label sk-toggleable__label-arrow\">AutoML</label><div class=\"sk-toggleable__content\"><pre>AutoML(results_path=&#x27;automl&#x27;)</pre></div></div></div></div></div>"
            ],
            "text/plain": [
              "AutoML(results_path='automl')"
            ]
          },
          "execution_count": 8,
          "metadata": {},
          "output_type": "execute_result"
        }
      ],
      "source": [
        "# create training and testing data\n",
        "from sklearn.model_selection import train_test_split\n",
        "X_train, X_test, y_train, y_test = train_test_split(\n",
        "    # we are going to throw out the first 2 columns\n",
        "    df[df.columns[3:]], df[\"F_ij\"], test_size=0.25\n",
        ")\n",
        "\n",
        "# the results_path should point to a folder that you have already created to store the model results\n",
        "automl = AutoML(results_path=\"automl\", mode='Explain')\n",
        "# fit the model\n",
        "automl.fit(X_train, y_train)"
      ]
    },
    {
      "cell_type": "markdown",
      "metadata": {
        "id": "2qAjSYROtLpv"
      },
      "source": [
        "See that AutoML saves the model as to your folder. Go to the directory and check out the model. There should be Feature Importance images in each model folder. These compute the \"importance\" of each variable by shuffling them one-by-one and seeing how much a completely random version hurts model performance. What are some important features?"
      ]
    },
    {
      "cell_type": "code",
      "execution_count": 9,
      "metadata": {
        "colab": {
          "base_uri": "https://localhost:8080/"
        },
        "id": "zshUY8IcPWfa",
        "outputId": "6669d12e-8e70-43a0-c176-b3b9c25227ae"
      },
      "outputs": [],
      "source": [
        "# let's store predictions\n",
        "y_pred = automl.predict(X_test)"
      ]
    },
    {
      "cell_type": "markdown",
      "metadata": {
        "id": "hw8XerU4sKTf"
      },
      "source": [
        "There are lot of model evaluation metrics in [sklearn](https://scikit-learn.org/stable/modules/classes.html#module-sklearn.metrics)"
      ]
    },
    {
      "cell_type": "code",
      "execution_count": 10,
      "metadata": {
        "colab": {
          "base_uri": "https://localhost:8080/"
        },
        "id": "TNmQqcux2Tiz",
        "outputId": "68a8f0b2-52bd-46c3-d518-a01f82969df6"
      },
      "outputs": [
        {
          "name": "stdout",
          "output_type": "stream",
          "text": [
            "1.1194851189946242\n",
            "3.6737206047165185\n",
            "0.6974873746244676\n"
          ]
        }
      ],
      "source": [
        "from sklearn.metrics import mean_absolute_percentage_error, median_absolute_error, r2_score\n",
        "# percent error\n",
        "print(mean_absolute_percentage_error(y_test, y_pred))\n",
        "# absolute error\n",
        "print(median_absolute_error(y_test, y_pred))\n",
        "# r-squared\n",
        "print(r2_score(y_test, y_pred))"
      ]
    },
    {
      "cell_type": "markdown",
      "metadata": {
        "id": "WRqn675EsY-U"
      },
      "source": [
        "Why do you think these are useful metrics, compared to something like RMSE?"
      ]
    },
    {
      "cell_type": "code",
      "execution_count": 11,
      "metadata": {
        "id": "stTzLGMN3htc"
      },
      "outputs": [],
      "source": [
        "# bin the predictions so we can see which parts of the distribution we are predicting best with\n",
        "y_eval = pd.DataFrame({'y_pred': y_pred, 'y_test': y_test})\n",
        "y_eval['quantile'] = pd.qcut(y_eval['y_test'], 10, duplicates='drop')\n",
        "y_eval['quantile'] = y_eval['quantile'].apply(lambda x: x.mid)"
      ]
    },
    {
      "cell_type": "code",
      "execution_count": 12,
      "metadata": {
        "colab": {
          "base_uri": "https://localhost:8080/",
          "height": 607
        },
        "id": "8ZakLnwM2JqX",
        "outputId": "6cadc60c-6e82-4d05-b89b-482de8740a9a"
      },
      "outputs": [
        {
          "name": "stderr",
          "output_type": "stream",
          "text": [
            "C:\\Users\\dune\\AppData\\Local\\Temp\\ipykernel_33656\\1186874090.py:2: FutureWarning: The default of observed=False is deprecated and will be changed to True in a future version of pandas. Pass observed=False to retain current behavior or observed=True to adopt the future default and silence this warning.\n"
          ]
        },
        {
          "data": {
            "image/png": "[encoded data removed]",
            "text/plain": [
              "<Figure size 1000x600 with 1 Axes>"
            ]
          },
          "metadata": {},
          "output_type": "display_data"
        }
      ],
      "source": [
        "# average error per quantile\n",
        "y_tile = y_eval.groupby('quantile', as_index=False).agg({'y_pred': 'mean', 'y_test': 'mean'})\n",
        "\n",
        "import matplotlib.pyplot as plt\n",
        "# sort the DataFrame by decile for plotting\n",
        "y_tile.sort_values('quantile', inplace=True)\n",
        "\n",
        "# create a figure and an axes instance\n",
        "fig, ax = plt.subplots(figsize=(10, 6))\n",
        "\n",
        "# scatter plot for observed values on ax\n",
        "ax.scatter(y_tile['quantile'], y_tile['y_test'], color='blue', label='Observed')\n",
        "\n",
        "# scatter plot for predicted values on ax\n",
        "ax.scatter(y_tile['quantile'], y_tile['y_pred'], color='red', label='Predicted')\n",
        "\n",
        "# adding labels and legend\n",
        "ax.set_xlabel('Quantile')\n",
        "ax.set_ylabel('Values')\n",
        "ax.set_xscale('log')\n",
        "ax.set_yscale('log')\n",
        "ax.set_title('Quantiles vs. Predicted and Observed Values')\n",
        "ax.legend()\n",
        "\n",
        "# show plot\n",
        "plt.show()"
      ]
    },
    {
      "cell_type": "markdown",
      "metadata": {
        "id": "HbNZuhQ3s_KU"
      },
      "source": [
        "It seems like we are predicting well everywhere except the low end of the distribution"
      ]
    },
    {
      "cell_type": "code",
      "execution_count": 13,
      "metadata": {
        "colab": {
          "base_uri": "https://localhost:8080/",
          "height": 569
        },
        "id": "YNN1eU2554vJ",
        "outputId": "5e0f0211-e796-4d3d-d9cd-7f6340917da1"
      },
      "outputs": [
        {
          "data": {
            "image/png": "[encoded data removed]",
            "text/plain": [
              "<Figure size 1000x600 with 1 Axes>"
            ]
          },
          "metadata": {},
          "output_type": "display_data"
        }
      ],
      "source": [
        "# predictions against observations\n",
        "y_eval.sort_values('quantile', inplace=True)\n",
        "\n",
        "fig, ax = plt.subplots(figsize=(10, 6))\n",
        "\n",
        "ax.scatter(y_eval['y_pred'], y_eval['y_test'], color='blue', label='Observed')\n",
        "ax.set_xlabel('Predicted')\n",
        "ax.set_ylabel('Observed')\n",
        "ax.set_xscale('log')\n",
        "ax.set_yscale('log')\n",
        "ax.set_title('Quantiles vs. Predicted and Observed Values')\n",
        "ax.legend()\n",
        "\n",
        "plt.show()"
      ]
    },
    {
      "cell_type": "markdown",
      "metadata": {
        "id": "GteqLxIMtX6o"
      },
      "source": [
        "# Challenge\n",
        "\n",
        "Create a new folder called \"perform\", then run AutoML again with a new results_path but instead of \"Explain\" use \"Perform\" as its mode. This will use more models in the stacking and should get better results. Show some metrics from `sklearn`and plot some results; can you show that the new \"Perform\" model did better or worse?"
      ]
    },
    {
      "cell_type": "code",
      "execution_count": null,
      "metadata": {
        "id": "6-0DEMnF9LKo"
      },
      "outputs": [],
      "source": []
    }
  ],
  "metadata": {
    "colab": {
      "authorship_tag": "ABX9TyP5iKBSQDeo/yZWS2qjpaub",
      "include_colab_link": true,
      "machine_shape": "hm",
      "provenance": []
    },
    "kernelspec": {
      "display_name": "Python 3",
      "name": "python3"
    },
    "language_info": {
      "codemirror_mode": {
        "name": "ipython",
        "version": 3
      },
      "file_extension": ".py",
      "mimetype": "text/x-python",
      "name": "python",
      "nbconvert_exporter": "python",
      "pygments_lexer": "ipython3",
      "version": "3.11.5"
    }
  },
  "nbformat": 4,
  "nbformat_minor": 0
}
